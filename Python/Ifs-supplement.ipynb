{
 "cells": [
  {
   "cell_type": "markdown",
   "id": "2d55bda5-a0e2-4c01-bb9a-04c9c305e260",
   "metadata": {},
   "source": [
    "## Practice Problem 1: Weather\n",
    "Write a program where you define a variable `temperature` and it outputs the message \"You shouldn’t play outside today.\" , if `temperature` is > 95. Otherwise it should be “You should play outside today.”"
   ]
  },
  {
   "cell_type": "code",
   "execution_count": 6,
   "id": "3e573111-fedb-4e07-9763-c5a9b2850a6b",
   "metadata": {},
   "outputs": [
    {
     "name": "stdout",
     "output_type": "stream",
     "text": [
      "You shouldn't play outside today\n"
     ]
    }
   ],
   "source": [
    "temperature = 98\n",
    "if temperature > 95:\n",
    "    print(\"You shouldn't play outside today\")\n",
    "else:\n",
    "    print(\"You should play outside today.\")"
   ]
  },
  {
   "cell_type": "markdown",
   "id": "07436faf-0de2-41a4-ac32-39ae801ea690",
   "metadata": {},
   "source": [
    "## Practice Problem 2: Passcode\n",
    "Write a program where you define a variable `passcode` and a variable `guess`. If `guess` is the same as `passcode`, then print \"Login successful!\". Otherwise, print \"Wrong passcode\".\n",
    "\n",
    "Hint: Use strings!"
   ]
  },
  {
   "cell_type": "code",
   "execution_count": 8,
   "id": "a9cb6b55-db27-43f5-9146-4398ba25b2a7",
   "metadata": {},
   "outputs": [
    {
     "name": "stdout",
     "output_type": "stream",
     "text": [
      "Wrong passcode\n"
     ]
    }
   ],
   "source": [
    "passcode =  \"Gabby\"\n",
    "guess = \"Gabb\"\n",
    "if passcode == guess:\n",
    "    print(\"Login successful!\")\n",
    "else:\n",
    "    print(\"Wrong passcode\")\n"
   ]
  },
  {
   "cell_type": "markdown",
   "id": "b0c5734b-ba1e-4900-97d3-05d355935571",
   "metadata": {},
   "source": [
    "## Weather pt. 2\n",
    "\n",
    "Revise the earlier program so that if `temperature` is > 95 it says \"It's too hot to play outside today\" and if `temperature` is <50, it says \"It's too cool to play outside today\". Otherwise it should say “You should play outside today.”"
   ]
  },
  {
   "cell_type": "code",
   "execution_count": 12,
   "id": "5dd6f059-36c8-4b70-9e37-28f32e70de2c",
   "metadata": {},
   "outputs": [
    {
     "name": "stdout",
     "output_type": "stream",
     "text": [
      "You should play outside today\n"
     ]
    }
   ],
   "source": [
    "temperature = 52\n",
    "if temperature > 95:\n",
    "    print(\"It's too hot to play outside today\")\n",
    "elif temperature <50:\n",
    "    print(\"It's too cool to play outside today\")\n",
    "else:\n",
    "    print(\"You should play outside today\")"
   ]
  }
 ],
 "metadata": {
  "kernelspec": {
   "display_name": "Python 3 (ipykernel)",
   "language": "python",
   "name": "python3"
  },
  "language_info": {
   "codemirror_mode": {
    "name": "ipython",
    "version": 3
   },
   "file_extension": ".py",
   "mimetype": "text/x-python",
   "name": "python",
   "nbconvert_exporter": "python",
   "pygments_lexer": "ipython3",
   "version": "3.12.7"
  }
 },
 "nbformat": 4,
 "nbformat_minor": 5
}

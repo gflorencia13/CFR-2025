{
 "cells": [
  {
   "cell_type": "markdown",
   "metadata": {},
   "source": [
    "# Session 5: From Single to Multiple Values: Arrays and NumPy"
   ]
  },
  {
   "cell_type": "markdown",
   "metadata": {},
   "source": [
    "### Creating Arrays\n",
    "In Python, arrays can be created manually.\n",
    "\n",
    "#### Example: Creating an array manually\n"
   ]
  },
  {
   "cell_type": "code",
   "execution_count": 2,
   "metadata": {},
   "outputs": [
    {
     "name": "stdout",
     "output_type": "stream",
     "text": [
      "[1 2 3 4]\n"
     ]
    }
   ],
   "source": [
    "import numpy as np\n",
    "\n",
    "my_array = np.array([1, 2, 3,4])\n",
    "print(my_array)"
   ]
  },
  {
   "cell_type": "markdown",
   "metadata": {},
   "source": [
    "They can also be created quickly and automatically using NumPy function`linspace` to generate evenly spaced points in an interval: `np.linspace(start, stop, number of points)`"
   ]
  },
  {
   "cell_type": "markdown",
   "metadata": {},
   "source": [
    "### Practice Problem 1\n",
    "- Create a NumPy array `my_array` with values `[5, 10, 15, 20, 25]`.\n",
    "- Multiply each element by 3 and print the result.\n",
    "\n",
    "#### Solution:\n"
   ]
  },
  {
   "cell_type": "code",
   "execution_count": 8,
   "metadata": {},
   "outputs": [
    {
     "name": "stdout",
     "output_type": "stream",
     "text": [
      "[15 30 45 60 75]\n"
     ]
    }
   ],
   "source": [
    "my_array = np.array([5, 10, 15, 20, 25])\n",
    "my_array2 = np.array ([5, 10, 15, 20, 25]) *3 \n",
    "\n",
    "print(my_array2)"
   ]
  },
  {
   "cell_type": "markdown",
   "metadata": {},
   "source": [
    " ### Practice Problem 2\n",
    "\n",
    " Write a function that takes two arrays (they have to be the same size), adds them together, and then returns the mean of the summed array."
   ]
  },
  {
   "cell_type": "code",
   "execution_count": 9,
   "metadata": {},
   "outputs": [],
   "source": [
    "my_array1 = np.array([5, 10, 15, 20, 25])\n",
    "my_array2 = np.array ([12, 14, 8, 9, 2])"
   ]
  },
  {
   "cell_type": "code",
   "execution_count": 10,
   "metadata": {},
   "outputs": [
    {
     "name": "stdout",
     "output_type": "stream",
     "text": [
      "24.0\n"
     ]
    }
   ],
   "source": [
    "def mean_array(my_array1, my_array2):\n",
    "    sum_array = my_array1 + my_array2\n",
    "    mean = np.mean(sum_array)\n",
    "    return mean\n",
    "\n",
    "mean = mean_array(my_array1, my_array2)\n",
    "print(mean)\n",
    "\n"
   ]
  },
  {
   "cell_type": "markdown",
   "metadata": {},
   "source": [
    "### Practice Problem 3\n",
    "- Create an array of numbers with the values `[10, 20, 30, 40, 50]`.\n",
    "- Change the second element to 25.\n",
    "- Print the modified array.\n",
    "\n",
    "#### Solution:\n"
   ]
  },
  {
   "cell_type": "code",
   "execution_count": 23,
   "metadata": {},
   "outputs": [
    {
     "name": "stdout",
     "output_type": "stream",
     "text": [
      "[10, 25, 30, 45, 55]\n"
     ]
    }
   ],
   "source": [
    "array = [10, 20, 30, 40, 50]\n",
    "array[1] = 25\n",
    "#print(array)\n",
    "\n",
    "array[3]= 45\n",
    "array[4] = 55\n",
    "print(array)"
   ]
  },
  {
   "cell_type": "code",
   "execution_count": 28,
   "metadata": {},
   "outputs": [
    {
     "data": {
      "text/plain": [
       "array([ 5, 15, 15])"
      ]
     },
     "execution_count": 28,
     "metadata": {},
     "output_type": "execute_result"
    }
   ],
   "source": [
    "my_array = np.array([5, 15, 15, 20, 25])\n",
    "my_array[0:3]"
   ]
  },
  {
   "cell_type": "markdown",
   "metadata": {},
   "source": [
    "### Practice Problem 4\n",
    "\n",
    "Create a 6 by 10 (6 rows and 10 columns) 2D numpy array in which the first row is all 1's, the rest of the second column is all 5's, and the rest of the array is all 0's.\n",
    "\n",
    "### Solution:"
   ]
  },
  {
   "cell_type": "code",
   "execution_count": 4,
   "metadata": {},
   "outputs": [
    {
     "name": "stdout",
     "output_type": "stream",
     "text": [
      "[[0 1]\n",
      " [2 3]\n",
      " [4 5]]\n"
     ]
    }
   ],
   "source": [
    "array_2d =  np.array ([[0,1], [2,3], [4,5]])\n",
    "print(array_2d)"
   ]
  },
  {
   "cell_type": "code",
   "execution_count": 7,
   "metadata": {},
   "outputs": [
    {
     "name": "stdout",
     "output_type": "stream",
     "text": [
      "[[0. 0.]\n",
      " [0. 0.]\n",
      " [0. 0.]]\n"
     ]
    }
   ],
   "source": [
    "array_2d = np.zeros((3,2)) #3 rows, 2 columns\n",
    "print(array_2d)"
   ]
  },
  {
   "cell_type": "code",
   "execution_count": 11,
   "metadata": {},
   "outputs": [
    {
     "name": "stdout",
     "output_type": "stream",
     "text": [
      "[[0. 0. 0. 0. 0. 0. 0. 0. 0. 0.]\n",
      " [0. 0. 0. 0. 0. 0. 0. 0. 0. 0.]\n",
      " [0. 0. 0. 0. 0. 0. 0. 0. 0. 0.]\n",
      " [0. 0. 0. 0. 0. 0. 0. 0. 0. 0.]\n",
      " [0. 0. 0. 0. 0. 0. 0. 0. 0. 0.]\n",
      " [0. 0. 0. 0. 0. 0. 0. 0. 0. 0.]]\n"
     ]
    }
   ],
   "source": [
    "array_2d = np.zeros ((6,10))\n",
    "print(array_2d)"
   ]
  },
  {
   "cell_type": "code",
   "execution_count": 12,
   "metadata": {},
   "outputs": [
    {
     "data": {
      "text/plain": [
       "array([[1., 1., 1., 1., 1., 1., 1., 1., 1., 1.],\n",
       "       [0., 0., 0., 0., 0., 0., 0., 0., 0., 0.],\n",
       "       [0., 0., 0., 0., 0., 0., 0., 0., 0., 0.],\n",
       "       [0., 0., 0., 0., 0., 0., 0., 0., 0., 0.],\n",
       "       [0., 0., 0., 0., 0., 0., 0., 0., 0., 0.],\n",
       "       [0., 0., 0., 0., 0., 0., 0., 0., 0., 0.]])"
      ]
     },
     "execution_count": 12,
     "metadata": {},
     "output_type": "execute_result"
    }
   ],
   "source": [
    "array_2d[0] = 1\n",
    "array_2d"
   ]
  },
  {
   "cell_type": "code",
   "execution_count": 13,
   "metadata": {},
   "outputs": [
    {
     "data": {
      "text/plain": [
       "array([[1., 1., 1., 1., 1., 1., 1., 1., 1., 1.],\n",
       "       [0., 5., 0., 0., 0., 0., 0., 0., 0., 0.],\n",
       "       [0., 5., 0., 0., 0., 0., 0., 0., 0., 0.],\n",
       "       [0., 5., 0., 0., 0., 0., 0., 0., 0., 0.],\n",
       "       [0., 5., 0., 0., 0., 0., 0., 0., 0., 0.],\n",
       "       [0., 5., 0., 0., 0., 0., 0., 0., 0., 0.]])"
      ]
     },
     "execution_count": 13,
     "metadata": {},
     "output_type": "execute_result"
    }
   ],
   "source": [
    "array_2d[1:,1] = 5\n",
    "array_2d"
   ]
  },
  {
   "cell_type": "code",
   "execution_count": 14,
   "metadata": {},
   "outputs": [
    {
     "data": {
      "text/plain": [
       "array([[1., 1., 1., 1., 1., 1., 1., 1., 1., 1.],\n",
       "       [0., 5., 0., 0., 0., 0., 0., 0., 0., 0.],\n",
       "       [0., 5., 0., 0., 0., 0., 0., 0., 0., 0.],\n",
       "       [0., 5., 0., 0., 0., 0., 0., 0., 0., 0.],\n",
       "       [0., 5., 0., 0., 0., 7., 0., 0., 0., 0.],\n",
       "       [0., 5., 0., 0., 0., 0., 0., 0., 0., 0.]])"
      ]
     },
     "execution_count": 14,
     "metadata": {},
     "output_type": "execute_result"
    }
   ],
   "source": [
    "array_2d[4, 5] = 7 #rows, columns\n",
    "array_2d"
   ]
  },
  {
   "cell_type": "markdown",
   "metadata": {},
   "source": [
    "### Practice Problem 5\n",
    "\n",
    "Write a function that takes an array and a threshold number, and returns just the values that are greater than that threshold. "
   ]
  },
  {
   "cell_type": "markdown",
   "metadata": {},
   "source": [
    "## Solution:"
   ]
  },
  {
   "cell_type": "code",
   "execution_count": null,
   "metadata": {},
   "outputs": [],
   "source": []
  }
 ],
 "metadata": {
  "kernelspec": {
   "display_name": "Python 3 (ipykernel)",
   "language": "python",
   "name": "python3"
  },
  "language_info": {
   "codemirror_mode": {
    "name": "ipython",
    "version": 3
   },
   "file_extension": ".py",
   "mimetype": "text/x-python",
   "name": "python",
   "nbconvert_exporter": "python",
   "pygments_lexer": "ipython3",
   "version": "3.12.7"
  }
 },
 "nbformat": 4,
 "nbformat_minor": 4
}

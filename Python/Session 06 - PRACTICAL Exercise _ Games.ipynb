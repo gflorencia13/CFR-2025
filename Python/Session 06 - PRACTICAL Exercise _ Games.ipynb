{
 "cells": [
  {
   "cell_type": "markdown",
   "metadata": {},
   "source": [
    "# Practical Exercise: Game time!\n",
    "\n",
    "### Scenario\n",
    "- You are opening a mini arcade and want to put together some fun games for your customers! :)\n",
    "\n",
    "### Objectives\n",
    "- Write some fun games that make use of your python knowledge. Practicing using:\n",
    "    - functions\n",
    "    - conditional statements\n",
    "    - loops\n",
    "    - numpy arrays\n",
    "- Learn how to generate random numbers!"
   ]
  },
  {
   "cell_type": "markdown",
   "metadata": {},
   "source": [
    "### Things to know:\n",
    "- The function `np.random.randint(a, b)` returns a random integer between `a` and `b`.\n",
    "- The function `np.random.choice(list)` returns a value randomly selected from `list`.\n",
    "- The function `input(prompt)` will ask the user for an answer to prompt and return the answer as a string.\n",
    "\n"
   ]
  },
  {
   "cell_type": "markdown",
   "metadata": {},
   "source": [
    "## Step 0: Function demo\n",
    "**Let's demo these new functions together!**"
   ]
  },
  {
   "cell_type": "code",
<<<<<<< Updated upstream
   "execution_count": 1,
=======
   "execution_count": 79,
>>>>>>> Stashed changes
   "metadata": {},
   "outputs": [],
   "source": [
    "# import numpy as always\n",
    "import numpy as np"
   ]
  },
  {
   "cell_type": "markdown",
   "metadata": {},
   "source": [
    "The `numpy` package includes a module to generate random numbers called `numpy.random`. There are several useful functions within the module including `np.random.randint()` and `np.random.choice()`.\n"
   ]
  },
  {
   "cell_type": "markdown",
   "metadata": {},
   "source": [
    "### `np.random.randint`\n",
    "`np.random.randint(a,b)` will return a random integer between the integers `a` and `b`. For example:"
   ]
  },
  {
   "cell_type": "code",
<<<<<<< Updated upstream
   "execution_count": 15,
=======
   "execution_count": 27,
>>>>>>> Stashed changes
   "metadata": {},
   "outputs": [
    {
     "data": {
      "text/plain": [
       "4"
      ]
     },
<<<<<<< Updated upstream
     "execution_count": 15,
=======
     "execution_count": 27,
>>>>>>> Stashed changes
     "metadata": {},
     "output_type": "execute_result"
    }
   ],
   "source": [
    "# print a random number between 0 and 5\n",
<<<<<<< Updated upstream
    "np.random.randint(0, 10)"
=======
    "np.random.randint(0,10)          #it's a number generator"
>>>>>>> Stashed changes
   ]
  },
  {
   "cell_type": "code",
<<<<<<< Updated upstream
   "execution_count": 22,
=======
   "execution_count": 28,
>>>>>>> Stashed changes
   "metadata": {},
   "outputs": [],
   "source": [
    "# we can store the random number in a variable too\n",
<<<<<<< Updated upstream
    "rand_num = np.random.randint(0, 10)"
=======
    "rand_rum = np.random.randint(0,10) "
>>>>>>> Stashed changes
   ]
  },
  {
   "cell_type": "code",
<<<<<<< Updated upstream
   "execution_count": 26,
=======
   "execution_count": 29,
>>>>>>> Stashed changes
   "metadata": {},
   "outputs": [
    {
     "data": {
      "text/plain": [
<<<<<<< Updated upstream
       "4"
      ]
     },
     "execution_count": 26,
=======
       "9"
      ]
     },
     "execution_count": 29,
>>>>>>> Stashed changes
     "metadata": {},
     "output_type": "execute_result"
    }
   ],
   "source": [
<<<<<<< Updated upstream
    "rand_num"
=======
    "rand_rum"
>>>>>>> Stashed changes
   ]
  },
  {
   "cell_type": "markdown",
   "metadata": {},
   "source": [
    "Try running the above cells more than once to see that you get different numbers!"
   ]
  },
  {
   "cell_type": "markdown",
   "metadata": {},
   "source": [
    "***Your turn:***\n",
    "Try to generate a random number between -5 and 20."
   ]
  },
  {
   "cell_type": "code",
<<<<<<< Updated upstream
   "execution_count": 36,
=======
   "execution_count": 30,
>>>>>>> Stashed changes
   "metadata": {},
   "outputs": [
    {
     "data": {
      "text/plain": [
<<<<<<< Updated upstream
       "-3"
      ]
     },
     "execution_count": 36,
=======
       "15"
      ]
     },
     "execution_count": 30,
>>>>>>> Stashed changes
     "metadata": {},
     "output_type": "execute_result"
    }
   ],
   "source": [
    "# print a random number between -5 and 20\n",
<<<<<<< Updated upstream
=======
    "\n",
>>>>>>> Stashed changes
    "np.random.randint(-5, 21)"
   ]
  },
  {
   "cell_type": "markdown",
   "metadata": {},
   "source": [
    "### `np.random.choice`\n",
    "`np.random.choice(list)` will return a random item from `list`. Note that this works for lists and numpy arrays!"
   ]
  },
  {
   "cell_type": "code",
<<<<<<< Updated upstream
   "execution_count": 44,
=======
   "execution_count": 31,
>>>>>>> Stashed changes
   "metadata": {},
   "outputs": [
    {
     "data": {
      "text/plain": [
<<<<<<< Updated upstream
       "1"
      ]
     },
     "execution_count": 44,
=======
       "2"
      ]
     },
     "execution_count": 31,
>>>>>>> Stashed changes
     "metadata": {},
     "output_type": "execute_result"
    }
   ],
   "source": [
    "# You can feed it the list (or array) directly:\n",
<<<<<<< Updated upstream
    "np.random.choice([0,1,2,3,4])\n"
=======
    "np.random.choice([0, 1, 2, 3, 4])"
>>>>>>> Stashed changes
   ]
  },
  {
   "cell_type": "code",
<<<<<<< Updated upstream
   "execution_count": 49,
=======
   "execution_count": 35,
>>>>>>> Stashed changes
   "metadata": {},
   "outputs": [
    {
     "data": {
      "text/plain": [
<<<<<<< Updated upstream
       "'how are you?'"
      ]
     },
     "execution_count": 49,
     "metadata": {},
     "output_type": "execute_result"
    }
   ],
   "source": [
    "np.random.choice([\"hi\", \"hello\", \"how are you?\"])\n"
   ]
  },
  {
   "cell_type": "code",
   "execution_count": 57,
   "metadata": {},
   "outputs": [
    {
     "data": {
      "text/plain": [
       "'aloha'"
      ]
     },
     "execution_count": 57,
=======
       "'hey'"
      ]
     },
     "execution_count": 35,
>>>>>>> Stashed changes
     "metadata": {},
     "output_type": "execute_result"
    }
   ],
   "source": [
    "# Or you can save it as a variable first and then feed it to the function:\n",
<<<<<<< Updated upstream
    "choices = [\"hi\", \"hello\", \"how are you?\", \"aloha\"]\n",
=======
    "choices = ([\"hello\", \"hey\", \"what's up\"])\n",
>>>>>>> Stashed changes
    "np.random.choice(choices)"
   ]
  },
  {
   "cell_type": "code",
<<<<<<< Updated upstream
   "execution_count": 69,
=======
   "execution_count": 36,
>>>>>>> Stashed changes
   "metadata": {},
   "outputs": [
    {
     "name": "stdout",
     "output_type": "stream",
     "text": [
      "what's up\n"
     ]
    }
   ],
   "source": [
    "# And just like with the previous function, we can also store the output as a variable:\n",
<<<<<<< Updated upstream
    "\n",
    "rand_choice = np.random.choice(choices)"
   ]
  },
  {
   "cell_type": "code",
   "execution_count": 72,
   "metadata": {},
   "outputs": [
    {
     "name": "stdout",
     "output_type": "stream",
     "text": [
      "hi\n"
     ]
    }
   ],
   "source": [
    "print(rand_choice)"
=======
    "rand_choice = np.random.choice(choices)\n",
    "print(rand_choice)\n"
>>>>>>> Stashed changes
   ]
  },
  {
   "cell_type": "markdown",
   "metadata": {},
   "source": [
    "***Your turn:***\n",
    "Choose a random color from a list of choices."
   ]
  },
  {
   "cell_type": "code",
<<<<<<< Updated upstream
   "execution_count": 79,
=======
   "execution_count": 37,
>>>>>>> Stashed changes
   "metadata": {},
   "outputs": [
    {
     "name": "stdout",
     "output_type": "stream",
     "text": [
<<<<<<< Updated upstream
      "green\n"
=======
      "pink\n"
>>>>>>> Stashed changes
     ]
    }
   ],
   "source": [
    "# Choose a random color from a list of colors:\n",
<<<<<<< Updated upstream
    "choices = ['green', 'orange', 'blue', 'mauve']\n",
=======
    "\n",
    "choices = ['green', 'pink', 'blue', 'mauve']\n",
>>>>>>> Stashed changes
    "print(np.random.choice(choices))"
   ]
  },
  {
   "cell_type": "markdown",
   "metadata": {},
   "source": [
    "### `input`\n",
    "\n",
    "We'll also be using a built-in python function called `input`, which will prompt the user to enter text and store the text as a string."
   ]
  },
  {
   "cell_type": "code",
<<<<<<< Updated upstream
   "execution_count": 82,
=======
   "execution_count": 85,
>>>>>>> Stashed changes
   "metadata": {},
   "outputs": [
    {
     "name": "stdin",
     "output_type": "stream",
     "text": [
<<<<<<< Updated upstream
      "Enter a number:  800\n"
     ]
    },
    {
     "name": "stdout",
     "output_type": "stream",
     "text": [
      "800\n"
     ]
=======
      " Enter a number:  6\n"
     ]
    },
    {
     "data": {
      "text/plain": [
       "'6'"
      ]
     },
     "execution_count": 85,
     "metadata": {},
     "output_type": "execute_result"
>>>>>>> Stashed changes
    }
   ],
   "source": [
    "# Ask the user for a number and print it:\n",
<<<<<<< Updated upstream
    "print(input(\"Enter a number: \"))"
=======
    "input(\" Enter a number: \")"
>>>>>>> Stashed changes
   ]
  },
  {
   "cell_type": "code",
<<<<<<< Updated upstream
   "execution_count": 88,
=======
   "execution_count": 86,
>>>>>>> Stashed changes
   "metadata": {},
   "outputs": [
    {
     "name": "stdin",
     "output_type": "stream",
     "text": [
<<<<<<< Updated upstream
      "Enter a number:  200\n"
=======
      " Enter a number:  8\n"
>>>>>>> Stashed changes
     ]
    }
   ],
   "source": [
    "# Ask the user for a number, store the answer as a variable, and print it:\n",
<<<<<<< Updated upstream
    "answer = input(\"Enter a number: \")"
=======
    "answer = input(\" Enter a number: \")\n"
>>>>>>> Stashed changes
   ]
  },
  {
   "cell_type": "code",
<<<<<<< Updated upstream
   "execution_count": 89,
=======
   "execution_count": 44,
>>>>>>> Stashed changes
   "metadata": {},
   "outputs": [
    {
     "data": {
      "text/plain": [
<<<<<<< Updated upstream
       "'200'"
      ]
     },
     "execution_count": 89,
=======
       "str"
      ]
     },
     "execution_count": 44,
>>>>>>> Stashed changes
     "metadata": {},
     "output_type": "execute_result"
    }
   ],
<<<<<<< Updated upstream
   "source": [
    "answer"
   ]
  },
  {
   "cell_type": "code",
   "execution_count": 102,
   "metadata": {},
   "outputs": [
    {
     "name": "stdin",
     "output_type": "stream",
     "text": [
      "Enter a number:  500\n"
     ]
    }
   ],
   "source": [
    "# Remember that by default, the answer is stored as a *string*:\n",
    "answer = input(\"Enter a number: \")"
=======
   "source": [
    "# Remember that by default, the answer is stored as a *string*:\n",
    "type(answer)\n"
>>>>>>> Stashed changes
   ]
  },
  {
   "cell_type": "code",
<<<<<<< Updated upstream
   "execution_count": 103,
=======
   "execution_count": 45,
>>>>>>> Stashed changes
   "metadata": {},
   "outputs": [
    {
     "name": "stdout",
     "output_type": "stream",
     "text": [
<<<<<<< Updated upstream
      "<class 'str'>\n"
     ]
    }
   ],
   "source": [
    "print(type(answer))"
   ]
  },
  {
   "cell_type": "code",
   "execution_count": 104,
   "metadata": {},
   "outputs": [
    {
     "ename": "TypeError",
     "evalue": "can only concatenate str (not \"int\") to str",
     "output_type": "error",
     "traceback": [
      "\u001b[1;31m---------------------------------------------------------------------------\u001b[0m",
      "\u001b[1;31mTypeError\u001b[0m                                 Traceback (most recent call last)",
      "Cell \u001b[1;32mIn[104], line 1\u001b[0m\n\u001b[1;32m----> 1\u001b[0m answer\u001b[38;5;241m+\u001b[39m\u001b[38;5;241m20\u001b[39m\n",
      "\u001b[1;31mTypeError\u001b[0m: can only concatenate str (not \"int\") to str"
     ]
    }
   ],
   "source": [
    "answer+20"
   ]
  },
  {
   "cell_type": "code",
   "execution_count": 105,
   "metadata": {},
   "outputs": [
    {
     "name": "stdout",
     "output_type": "stream",
     "text": [
=======
>>>>>>> Stashed changes
      "<class 'int'>\n"
     ]
    }
   ],
   "source": [
    "# We might want to convert it to an integer:\n",
    "answer = int(answer)\n",
<<<<<<< Updated upstream
    "print(type(answer))"
   ]
  },
  {
   "cell_type": "code",
   "execution_count": 106,
   "metadata": {},
   "outputs": [
    {
     "data": {
      "text/plain": [
       "520"
      ]
     },
     "execution_count": 106,
     "metadata": {},
     "output_type": "execute_result"
    }
   ],
   "source": [
    "answer+20"
=======
    "print(type(answer)) #convert it to an integer\n"
>>>>>>> Stashed changes
   ]
  },
  {
   "cell_type": "markdown",
   "metadata": {},
   "source": [
    "***Your turn:*** Ask the user for their name and print the response."
   ]
  },
  {
   "cell_type": "code",
<<<<<<< Updated upstream
   "execution_count": 109,
=======
   "execution_count": 46,
>>>>>>> Stashed changes
   "metadata": {},
   "outputs": [
    {
     "name": "stdin",
     "output_type": "stream",
     "text": [
<<<<<<< Updated upstream
      "Enter your name:  Gabby\n"
=======
      " Enter your name :  Gabby\n"
>>>>>>> Stashed changes
     ]
    },
    {
     "name": "stdout",
     "output_type": "stream",
     "text": [
<<<<<<< Updated upstream
      "Hello Gabby!\n"
=======
      " Hello Gabby !\n"
>>>>>>> Stashed changes
     ]
    }
   ],
   "source": [
    "# Ask the user for their name and print the response\n",
<<<<<<< Updated upstream
    "name = input('Enter your name: ')\n",
    "print(f'Hello {name}!')"
=======
    "name = input(\" Enter your name : \")\n",
    "print (f\" Hello {name} !\")"
>>>>>>> Stashed changes
   ]
  },
  {
   "cell_type": "markdown",
   "metadata": {},
   "source": [
    "Great! Now we've learned some new `numpy` and `python` functions and we can use them to build some fun functions."
   ]
  },
  {
   "cell_type": "markdown",
   "metadata": {},
   "source": [
    "---"
   ]
  },
  {
   "cell_type": "markdown",
   "metadata": {},
   "source": [
    "## Step 1: What's for lunch? (*together*)"
   ]
  },
  {
   "cell_type": "markdown",
   "metadata": {},
   "source": [
    "\n",
    "Sometimes it's hard to choose what to eat for lunch and we might want a suggestion. Let's make a list of options and ask the computer to pick something for us!"
   ]
  },
  {
   "cell_type": "code",
<<<<<<< Updated upstream
   "execution_count": 119,
=======
   "execution_count": 48,
>>>>>>> Stashed changes
   "metadata": {},
   "outputs": [
    {
     "data": {
      "text/plain": [
<<<<<<< Updated upstream
       "'sandwich'"
      ]
     },
     "execution_count": 119,
=======
       "'sushi'"
      ]
     },
     "execution_count": 48,
>>>>>>> Stashed changes
     "metadata": {},
     "output_type": "execute_result"
    }
   ],
   "source": [
    "# Define a list of some lunch options\n",
<<<<<<< Updated upstream
    "lunch_options = ['sandwich', 'pizza', 'salad', 'tuna']\n",
    "#print(lunch_options)\n",
    "\n",
=======
    "lunch_options = [\"lobster\", \"pizza\", \"tuna\", \"sushi\"]\n",
    "\n",
    "\n",
>>>>>>> Stashed changes
    "# Choose one!\n",
    "np.random.choice(lunch_options)"
   ]
  },
  {
   "cell_type": "markdown",
   "metadata": {},
   "source": [
    "For convenience, we can make this into a function:"
   ]
  },
  {
   "cell_type": "code",
<<<<<<< Updated upstream
   "execution_count": 129,
=======
   "execution_count": 51,
>>>>>>> Stashed changes
   "metadata": {},
   "outputs": [],
   "source": [
    "def what_should_i_eat():\n",
    "    \"\"\"Function to suggest a random lunch option from a predefined list.\"\"\"\n",
    "\n",
    "    # Define a list of lunch options\n",
<<<<<<< Updated upstream
    "    lunch_options = ['pizza', 'soup', 'sushi', 'dosa', '711']\n",
=======
    "    lunch_options = ['pizza', 'soup', 'sushi', 'dosa']\n",
    "    \n",
>>>>>>> Stashed changes
    "\n",
    "    # Choose a random lunch option\n",
    "    random_lunch = np.random.choice(lunch_options)\n",
    "\n",
    "    # Print the choice\n",
    "    print(f\"You should eat {random_lunch} for lunch today!\")"
   ]
  },
  {
   "cell_type": "code",
<<<<<<< Updated upstream
   "execution_count": 139,
=======
   "execution_count": 52,
>>>>>>> Stashed changes
   "metadata": {},
   "outputs": [
    {
     "name": "stdout",
     "output_type": "stream",
     "text": [
<<<<<<< Updated upstream
      "You should eat 711 for lunch today!\n"
=======
      "You should eat soup for lunch today!\n"
>>>>>>> Stashed changes
     ]
    }
   ],
   "source": [
    "what_should_i_eat()"
   ]
  },
  {
   "cell_type": "markdown",
   "metadata": {},
   "source": [
    "Maybe we have two categories of foods, for days we want to eat meat and days we want to be vegeterian. We can make our function a little more complicated:"
   ]
  },
  {
   "cell_type": "code",
<<<<<<< Updated upstream
   "execution_count": 140,
=======
   "execution_count": 53,
>>>>>>> Stashed changes
   "metadata": {},
   "outputs": [],
   "source": [
    "def what_should_i_eat_vegeterian(vegeterian = False):\n",
    "    \"\"\"Function to suggest a random lunch option from a predefined list.\n",
    "    \n",
    "    input:\n",
    "    vegeterian: bool, if True, suggests only vegetarian options\n",
    "    \"\"\"\n",
    "    if vegeterian:\n",
<<<<<<< Updated upstream
    "        lunch_options = ['pizza', 'dosa', 'sushi', 'salad']\n",
=======
    "        lunch_options = ['pizza' ,'dosa', 'sushi', 'salad']\n",
>>>>>>> Stashed changes
    "    else:\n",
    "        lunch_options = ['chicken', 'hamburger', 'steak', 'turkey']\n",
    "\n",
    "    # Choose a random lunch option\n",
    "    random_lunch = np.random.choice(lunch_options)\n",
    "\n",
    "    # Print the choice\n",
    "    print(f\"You should eat {random_lunch} for lunch today! It's {'vegetarian' if vegeterian else 'not vegetarian'}.\")"
   ]
  },
  {
   "cell_type": "code",
<<<<<<< Updated upstream
   "execution_count": 152,
=======
   "execution_count": 55,
>>>>>>> Stashed changes
   "metadata": {},
   "outputs": [
    {
     "name": "stdout",
     "output_type": "stream",
     "text": [
<<<<<<< Updated upstream
      "You should eat chicken for lunch today! It's not vegetarian.\n"
=======
      "You should eat hamburger for lunch today! It's not vegetarian.\n"
>>>>>>> Stashed changes
     ]
    }
   ],
   "source": [
    "what_should_i_eat_vegeterian(vegeterian=False)"
   ]
  },
  {
   "cell_type": "markdown",
   "metadata": {},
   "source": [
    "We can also make a version that asks the user instead of requiring an arguement:"
   ]
  },
  {
   "cell_type": "code",
<<<<<<< Updated upstream
   "execution_count": 153,
=======
   "execution_count": 62,
>>>>>>> Stashed changes
   "metadata": {},
   "outputs": [],
   "source": [
    "def what_should_i_eat_vegeterian_user():\n",
    "    \"\"\"Function to suggest a random lunch option from a predefined list.\n",
    "    \n",
    "    input:\n",
    "    vegeterian: bool, if True, suggests only vegetarian options\n",
    "    \"\"\"\n",
    "\n",
<<<<<<< Updated upstream
    "    vegeterian = input(\"Do you want to be vegeterian today? (yes or no):\")\n",
    "\n",
    "    if vegeterian == \"yes\":\n",
    "        lunch_options = ['pizza', 'dosa', 'sushi', 'salad']\n",
    "    else:\n",
    "        lunch_options = ['chicken', 'hamburger', 'steak', 'turkey']\n",
    "\n",
=======
    "    vegeterian = input(\"Do you want to be vegetarian today? (yes or no)\")\n",
    "\n",
    "    if vegeterian == \"yes\":\n",
    "        lunch_options = ['pizza' ,'dosa', 'sushi', 'salad']\n",
    "    else:\n",
    "        lunch_options = ['chicken', 'hamburger', 'steak', 'turkey']\n",
>>>>>>> Stashed changes
    "    # Choose a random lunch option\n",
    "    random_lunch = np.random.choice(lunch_options)\n",
    "\n",
    "    # Print the choice\n",
    "    print(f\"You should eat {random_lunch} for lunch today! It's {'vegetarian' if vegeterian == 'yes' else 'not vegetarian'}.\")"
   ]
  },
  {
   "cell_type": "code",
<<<<<<< Updated upstream
   "execution_count": 160,
=======
   "execution_count": 63,
>>>>>>> Stashed changes
   "metadata": {},
   "outputs": [
    {
     "name": "stdin",
     "output_type": "stream",
     "text": [
<<<<<<< Updated upstream
      "Do you want to be vegeterian today? (yes or no): yes\n"
=======
      "Do you want to be vegetarian today? (yes or no) YES!\n"
>>>>>>> Stashed changes
     ]
    },
    {
     "name": "stdout",
     "output_type": "stream",
     "text": [
<<<<<<< Updated upstream
      "You should eat dosa for lunch today! It's vegetarian.\n"
=======
      "You should eat steak for lunch today! It's not vegetarian.\n"
>>>>>>> Stashed changes
     ]
    }
   ],
   "source": [
    "what_should_i_eat_vegeterian_user()"
   ]
  },
  {
   "cell_type": "markdown",
   "metadata": {},
   "source": [
    "## Step 2: Magic eight ball (*your turn*)"
   ]
  },
  {
   "cell_type": "markdown",
   "metadata": {},
   "source": [
    "\n",
    "**Task**\n",
    "\n",
    "- Construct a magic 8 ball where the computer picks a random answer to your question.\n",
    "- To do this, you'll want to write a function `magic_eight_ball()` which will prompt the user for a question and return its answer.\n",
    "\n",
    "**Hints**\n",
    "\n",
    "- Think of the steps required to make the game happen. Try writing them out in words before you write them out in code!"
   ]
  },
  {
   "cell_type": "code",
   "execution_count": 77,
   "metadata": {},
   "outputs": [],
   "source": [
    "def magic_eight_ball():\n",
    "    ball = input(\" Enter a question: \") #this will automatically printed\n",
    "    answer = [\"yes\", \"no\", \"ask again later\"]\n",
    "    random_answer = np.random.choice(answer)\n",
    "    print(f\" {random_answer} \")"
   ]
  },
  {
   "cell_type": "code",
   "execution_count": 78,
   "metadata": {},
   "outputs": [
    {
     "name": "stdin",
     "output_type": "stream",
     "text": [
      " Enter a question:  Should I eat lunch today?\n"
     ]
    },
    {
     "name": "stdout",
     "output_type": "stream",
     "text": [
      " no \n"
     ]
    }
   ],
   "source": [
    "magic_eight_ball()"
   ]
  },
  {
   "cell_type": "markdown",
   "metadata": {},
   "source": [
    "## Step 3: Math quiz (*together*)\n"
   ]
  },
  {
   "cell_type": "markdown",
   "metadata": {},
   "source": [
    "A game for the nerds! Let's make a function to randomly generate a little math problem and quiz us. \n",
    "\n",
    "First let's play around with our random numbers outside of the function:"
   ]
  },
  {
   "cell_type": "code",
   "execution_count": 97,
   "metadata": {},
   "outputs": [
    {
     "name": "stdout",
     "output_type": "stream",
     "text": [
      "71\n"
     ]
    }
   ],
   "source": [
    "# Generate two random numbers\n",
    "num1 = np.random.randint(1,50)\n",
    "num2 = np.random.randint(1,100)\n",
    "total = sum((num1,num2))\n",
    "# Print the sum of the two numbers as an equation\n",
    "print(total)"
   ]
  },
  {
   "cell_type": "code",
   "execution_count": 98,
   "metadata": {},
   "outputs": [
    {
     "data": {
      "text/plain": [
       "\u001b[1;31mSignature:\u001b[0m \u001b[0msum\u001b[0m\u001b[1;33m(\u001b[0m\u001b[0miterable\u001b[0m\u001b[1;33m,\u001b[0m \u001b[1;33m/\u001b[0m\u001b[1;33m,\u001b[0m \u001b[0mstart\u001b[0m\u001b[1;33m=\u001b[0m\u001b[1;36m0\u001b[0m\u001b[1;33m)\u001b[0m\u001b[1;33m\u001b[0m\u001b[1;33m\u001b[0m\u001b[0m\n",
       "\u001b[1;31mDocstring:\u001b[0m\n",
       "Return the sum of a 'start' value (default: 0) plus an iterable of numbers\n",
       "\n",
       "When the iterable is empty, return the start value.\n",
       "This function is intended specifically for use with numeric values and may\n",
       "reject non-numeric types.\n",
       "\u001b[1;31mType:\u001b[0m      builtin_function_or_method"
      ]
     },
     "metadata": {},
     "output_type": "display_data"
    }
   ],
   "source": [
    "?sum"
   ]
  },
  {
   "cell_type": "markdown",
   "metadata": {},
   "source": [
    "Now let's make our function"
   ]
  },
  {
   "cell_type": "code",
   "execution_count": null,
   "metadata": {},
   "outputs": [],
   "source": [
    "def math_quiz():\n",
    "    \"\"\"Function to ask a simple math question and check the answer.\"\"\"\n",
    "    \n",
    "    # Generate two random numbers\n",
    "    num1 = np.random.randint(9,15)\n",
    "    num2 = np.random.randint(0,100)\n",
    "    \n",
    "    # Calculate the correct answer\n",
    "    correct_answer =    c\n",
    "    \n",
    "    # Ask the user for their answer\n",
    "    user_answer = input( \"Enter your answer: \")\n",
    "    \n",
    "    # Check if the user's answer is correct\n",
    "    check_answer = user_answer\n"
   ]
  },
  {
   "cell_type": "code",
   "execution_count": null,
   "metadata": {},
   "outputs": [],
   "source": [
    "math_quiz()"
   ]
  },
  {
   "cell_type": "markdown",
   "metadata": {},
   "source": [
    "Maybe we want the user to keep guessing until they get it correct. For that, we can use `while` loop, which will keep repeating the same code until a specified condition is met. For example:"
   ]
  },
  {
   "cell_type": "code",
   "execution_count": null,
   "metadata": {},
   "outputs": [],
   "source": [
    "# Keep adding 1 to i and printing it until i is equal to 5\n",
    "i = 0\n",
    "while i < 5:\n",
    "    print(i)\n",
    "    i += 1\n",
    "print(\"Loop finished!\")"
   ]
  },
  {
   "cell_type": "code",
   "execution_count": null,
   "metadata": {},
   "outputs": [],
   "source": [
    "def math_quiz_loop():\n",
    "    \"\"\"Function to ask a simple math question and check the answer.\"\"\"\n",
    "    \n",
    "    # Generate two random numbers\n",
    "    num1 = np.random.randint(1, 10)\n",
    "    num2 = np.random.randint(1, 10)\n",
    "    \n",
    "    # Calculate the correct answer\n",
    "    correct_answer = num1 + num2\n",
    "\n",
    "    # Initialize our termination condition\n",
    "    user_correct = False\n",
    "\n",
    "    # keep asking the user until they get the answer right\n",
    "\n"
   ]
  },
  {
   "cell_type": "code",
   "execution_count": null,
   "metadata": {},
   "outputs": [],
   "source": [
    "math_quiz_loop()"
   ]
  },
  {
   "cell_type": "markdown",
   "metadata": {},
   "source": [
    "## Step 4: Guessing the number! (*your turn*)"
   ]
  },
  {
   "cell_type": "markdown",
   "metadata": {},
   "source": [
    "\n",
    "**Task**\n",
    "\n",
    "- Construct a game where the computer chooses a random number, and you (the player) try to guess the number. \n",
    "- To do this, you'll want to write a function `play_number_guessing_game()` which will prompt the user to guess until they pick the right number.\n",
    "\n",
    "**Hints**\n",
    "\n",
    "- Think of the steps required to make the game happen before you start coding. \n",
    "- Try to write smaller functions that take care of different tasks.\n",
    "    - You might want to write a function `check_guess(answer, guess)` that returns `True` if the guess is correct (`answer == guess`) and False otherwise. Maybe you want to tell the player if their number is too high or too low?\n",
    "\n",
    "**Things to consider**\n",
    "- Do you want your player to keep guessing forever until they get the number or have a finite number of chances?\n",
    "- Do you want the computer to give feedback on the guesses? \n",
    "- How hard do you want the game to be? "
   ]
  },
  {
   "cell_type": "code",
   "execution_count": null,
   "metadata": {},
   "outputs": [],
   "source": [
    "def check_guess(answer, guess):\n",
    "    \"\"\"Function to check if the user's guess is correct.\"\"\"\n",
    "\n",
    "\n",
    "def play_number_guessing_game():\n",
    "    \"\"\"Function to play a number guessing game.\"\"\"\n"
   ]
  },
  {
   "cell_type": "code",
   "execution_count": null,
   "metadata": {},
   "outputs": [],
   "source": [
    "play_number_guessing_game()"
   ]
  },
  {
   "cell_type": "markdown",
   "metadata": {},
   "source": [
    "# Bonus\n",
    "\n",
    "Here are some other things you can do that use only basic python like functions, loops, conditionals, and arrays. Feel free to give them a try from scratch, make some modifications to the provided solutions, or just play the games!"
   ]
  },
  {
   "cell_type": "markdown",
   "metadata": {},
   "source": [
    "## Step 5: Guess the word!\n",
    "\n",
    "**Task**\n",
    "- Construct a hangman-like game, where the computer thinks of a word and the user tries to guess the letters. \n",
    "- To do this, you'll want to write a function `play_word_guessing_game()` which will prompt the user to guess until they pick the right number.\n",
    "\n",
    "**Things to consider**\n",
    "- How many words do you want the computer to draw from? \n",
    "- How should the player be updated on their progress?\n",
    "- How many guess should the player have?\n",
    "- What should you do if a player guesses the same letter twice?"
   ]
  },
  {
   "cell_type": "code",
   "execution_count": null,
   "metadata": {},
   "outputs": [],
   "source": [
    "def play_word_guessing_game():\n",
    "    \"\"\"Function to play a word guessing game.\"\"\"\n",
    "\n"
   ]
  },
  {
   "cell_type": "code",
   "execution_count": null,
   "metadata": {},
   "outputs": [],
   "source": [
    "play_word_guessing_game()"
   ]
  },
  {
   "cell_type": "markdown",
   "metadata": {},
   "source": [
    "## Step 6: Tic-tac-toe\n",
    "\n",
    "**Task**\n",
    "- Construct a tic tac toe game, where the computer you and the computer place X's and O's until someone gets three in a row. \n",
    "- To do this, you'll want to write a function `play_tic_tac_toe()` which will print the board and prompt the player to choose a spot to play.\n",
    "\n",
    "**Things to consider**\n",
    "- How do you want to print the board?\n",
    "- What should happen if the player chooses a position that has already been played?\n",
    "- How should you check if someone has won the game?\n",
    "- Can you make a 2-player version?"
   ]
  },
  {
   "cell_type": "code",
   "execution_count": null,
   "metadata": {},
   "outputs": [],
   "source": [
    "def play_tic_tac_toe():\n",
    "    \"\"\"Function to play a Tic Tac Toe game.\"\"\"\n"
   ]
  },
  {
   "cell_type": "code",
   "execution_count": null,
   "metadata": {},
   "outputs": [],
   "source": [
    "play_tic_tac_toe()"
   ]
  },
  {
   "cell_type": "code",
   "execution_count": null,
   "metadata": {},
   "outputs": [],
   "source": []
  }
 ],
 "metadata": {
  "kernelspec": {
   "display_name": "Python 3 (ipykernel)",
   "language": "python",
   "name": "python3"
  },
  "language_info": {
   "codemirror_mode": {
    "name": "ipython",
    "version": 3
   },
   "file_extension": ".py",
   "mimetype": "text/x-python",
   "name": "python",
   "nbconvert_exporter": "python",
   "pygments_lexer": "ipython3",
   "version": "3.12.7"
  }
 },
 "nbformat": 4,
 "nbformat_minor": 4
}
